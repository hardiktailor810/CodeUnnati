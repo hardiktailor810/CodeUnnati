{
 "cells": [
  {
   "cell_type": "markdown",
   "id": "417bd727",
   "metadata": {},
   "source": [
    "# Python Basics\n",
    "\n",
    "Hardik\n",
    "\n",
    "Python Coding"
   ]
  },
  {
   "cell_type": "code",
   "execution_count": 2,
   "id": "00c0e532",
   "metadata": {},
   "outputs": [
    {
     "name": "stdout",
     "output_type": "stream",
     "text": [
      "Hello Sachin\n"
     ]
    }
   ],
   "source": [
    "print(\"Hello Sachin\")"
   ]
  },
  {
   "cell_type": "markdown",
   "id": "3666f75a",
   "metadata": {},
   "source": [
    "# Python Variable"
   ]
  },
  {
   "cell_type": "code",
   "execution_count": 2,
   "id": "7596e02d",
   "metadata": {},
   "outputs": [
    {
     "name": "stdout",
     "output_type": "stream",
     "text": [
      "Python\n",
      "35\n",
      "100\n",
      "135\n"
     ]
    }
   ],
   "source": [
    "var1 = \"Python\"\n",
    "a = 35\n",
    "b = 100\n",
    "print(var1)\n",
    "print(a)\n",
    "print(b)\n",
    "\n",
    "sum = a+b\n",
    "print(sum)\n",
    "\n"
   ]
  },
  {
   "cell_type": "code",
   "execution_count": 40,
   "id": "c891c9b6",
   "metadata": {},
   "outputs": [
    {
     "data": {
      "text/plain": [
       "70"
      ]
     },
     "execution_count": 40,
     "metadata": {},
     "output_type": "execute_result"
    }
   ],
   "source": [
    "var1 = 50\n",
    "var2 = 20\n",
    "var3 = var1+var2\n",
    "var3"
   ]
  },
  {
   "cell_type": "code",
   "execution_count": 41,
   "id": "2ffe8349",
   "metadata": {},
   "outputs": [
    {
     "data": {
      "text/plain": [
       "1000"
      ]
     },
     "execution_count": 41,
     "metadata": {},
     "output_type": "execute_result"
    }
   ],
   "source": [
    "var4 = var1*var2\n",
    "var4"
   ]
  },
  {
   "cell_type": "code",
   "execution_count": 42,
   "id": "cd6425b6",
   "metadata": {},
   "outputs": [
    {
     "data": {
      "text/plain": [
       "30"
      ]
     },
     "execution_count": 42,
     "metadata": {},
     "output_type": "execute_result"
    }
   ],
   "source": [
    "var5 = var1-var2\n",
    "var5"
   ]
  },
  {
   "cell_type": "code",
   "execution_count": 49,
   "id": "c4be9761",
   "metadata": {},
   "outputs": [
    {
     "data": {
      "text/plain": [
       "2.5"
      ]
     },
     "execution_count": 49,
     "metadata": {},
     "output_type": "execute_result"
    }
   ],
   "source": [
    "var6 = var1/var2\n",
    "var6"
   ]
  },
  {
   "cell_type": "code",
   "execution_count": 20,
   "id": "dd4c5964",
   "metadata": {},
   "outputs": [
    {
     "name": "stdout",
     "output_type": "stream",
     "text": [
      "My name is Hardik\n",
      "100 1000 Hardik\n"
     ]
    }
   ],
   "source": [
    "count = 100\n",
    "km = 1000\n",
    "name = \"Hardik\"\n",
    "\n",
    "print(\"My name is Hardik\")\n",
    "print(count,km,name)"
   ]
  },
  {
   "cell_type": "code",
   "execution_count": 22,
   "id": "85c9061b",
   "metadata": {},
   "outputs": [
    {
     "name": "stdout",
     "output_type": "stream",
     "text": [
      "My name is Hardik\n",
      "100,1000,Hardik\n"
     ]
    }
   ],
   "source": [
    "count = 100\n",
    "km = 1000\n",
    "name = \"Hardik\"\n",
    "\n",
    "print(\"My name is Hardik\")\n",
    "print(count,km,name,sep = ',')"
   ]
  },
  {
   "cell_type": "code",
   "execution_count": 23,
   "id": "e76f32b1",
   "metadata": {},
   "outputs": [
    {
     "name": "stdout",
     "output_type": "stream",
     "text": [
      "My name is Hardik\n",
      "100,1000,Hardik\n",
      "6,8,Neotech\n"
     ]
    }
   ],
   "source": [
    "count = 100\n",
    "km = 1000\n",
    "name = \"Hardik\"\n",
    "a,b,c = 6,8,\"Neotech\"\n",
    "\n",
    "print(\"My name is Hardik\")\n",
    "print(count,km,name,sep = ',')\n",
    "print(a,b,c,sep = ',')"
   ]
  },
  {
   "cell_type": "code",
   "execution_count": 24,
   "id": "fa12ab1d",
   "metadata": {},
   "outputs": [
    {
     "name": "stdout",
     "output_type": "stream",
     "text": [
      "1 1 1\n"
     ]
    }
   ],
   "source": [
    "a=b=c=1\n",
    "\n",
    "a\n",
    "b\n",
    "c\n",
    "\n",
    "print(a,b,c)"
   ]
  },
  {
   "cell_type": "code",
   "execution_count": 26,
   "id": "20282d68",
   "metadata": {},
   "outputs": [
    {
     "data": {
      "text/plain": [
       "1"
      ]
     },
     "execution_count": 26,
     "metadata": {},
     "output_type": "execute_result"
    }
   ],
   "source": [
    "a=b=c=1\n",
    "\n",
    "a\n",
    "b\n",
    "c\n",
    "\n",
    "#print(a,b,c)"
   ]
  },
  {
   "cell_type": "code",
   "execution_count": 37,
   "id": "9a844698",
   "metadata": {},
   "outputs": [
    {
     "data": {
      "text/plain": [
       "96"
      ]
     },
     "execution_count": 37,
     "metadata": {},
     "output_type": "execute_result"
    }
   ],
   "source": [
    "x,y,z = 8,10,96\n",
    "\n",
    "z"
   ]
  },
  {
   "cell_type": "code",
   "execution_count": 38,
   "id": "9db78a20",
   "metadata": {},
   "outputs": [],
   "source": [
    "del z"
   ]
  },
  {
   "cell_type": "code",
   "execution_count": 39,
   "id": "b624e887",
   "metadata": {},
   "outputs": [
    {
     "ename": "NameError",
     "evalue": "name 'z' is not defined",
     "output_type": "error",
     "traceback": [
      "\u001b[1;31m---------------------------------------------------------------------------\u001b[0m",
      "\u001b[1;31mNameError\u001b[0m                                 Traceback (most recent call last)",
      "Input \u001b[1;32mIn [39]\u001b[0m, in \u001b[0;36m<cell line: 1>\u001b[1;34m()\u001b[0m\n\u001b[1;32m----> 1\u001b[0m \u001b[43mz\u001b[49m\n",
      "\u001b[1;31mNameError\u001b[0m: name 'z' is not defined"
     ]
    }
   ],
   "source": [
    "z"
   ]
  },
  {
   "cell_type": "markdown",
   "id": "870c8c56",
   "metadata": {},
   "source": [
    "# Data Types\n",
    "\n",
    "Numerical Data Types"
   ]
  },
  {
   "cell_type": "code",
   "execution_count": 51,
   "id": "2795e809",
   "metadata": {},
   "outputs": [
    {
     "name": "stdout",
     "output_type": "stream",
     "text": [
      "<class 'int'>\n",
      "<class 'float'>\n",
      "<class 'complex'>\n",
      "<class 'str'>\n",
      "<class 'bool'>\n"
     ]
    }
   ],
   "source": [
    "a = 67\n",
    "b = 99.9999\n",
    "c = 3.14j\n",
    "d = \"Navratri\"\n",
    "e = True\n",
    "\n",
    "print(type(a))\n",
    "print(type(b))\n",
    "print(type(c))\n",
    "print(type(d))\n",
    "print(type(e))\n"
   ]
  },
  {
   "cell_type": "markdown",
   "id": "c03223f8",
   "metadata": {},
   "source": [
    "# how to take input from user"
   ]
  },
  {
   "cell_type": "code",
   "execution_count": 53,
   "id": "6dbddf91",
   "metadata": {},
   "outputs": [
    {
     "name": "stdout",
     "output_type": "stream",
     "text": [
      "Enter the value of x: 8\n",
      "Enter the value of y: 16\n"
     ]
    },
    {
     "data": {
      "text/plain": [
       "128"
      ]
     },
     "execution_count": 53,
     "metadata": {},
     "output_type": "execute_result"
    }
   ],
   "source": [
    "#how to take input from user\n",
    "#ask the user to enter the value of x and store it in variable x\n",
    "x = int(input(\"Enter the value of x: \"))\n",
    "\n",
    "#ask the user to enter the value of y and store it in variable y\n",
    "y = int(input(\"Enter the value of y: \"))\n",
    "\n",
    "#preform my mathametical operation on user input\n",
    "\n",
    "z = x*y\n",
    "\n",
    "#print the answer\n",
    "\n",
    "z"
   ]
  },
  {
   "cell_type": "markdown",
   "id": "ec1582ed",
   "metadata": {},
   "source": [
    "# String"
   ]
  },
  {
   "cell_type": "code",
   "execution_count": 57,
   "id": "16833802",
   "metadata": {},
   "outputs": [
    {
     "data": {
      "text/plain": [
       "'I like Python programing'"
      ]
     },
     "execution_count": 57,
     "metadata": {},
     "output_type": "execute_result"
    }
   ],
   "source": [
    "str1 = \"I like Python programing\"\n",
    "str1"
   ]
  },
  {
   "cell_type": "code",
   "execution_count": 65,
   "id": "4f7c1c7a",
   "metadata": {},
   "outputs": [
    {
     "data": {
      "text/plain": [
       "' number one'"
      ]
     },
     "execution_count": 65,
     "metadata": {},
     "output_type": "execute_result"
    }
   ],
   "source": [
    "str2 = \" number one\"\n",
    "str2 "
   ]
  },
  {
   "cell_type": "code",
   "execution_count": 66,
   "id": "a6d41cb6",
   "metadata": {},
   "outputs": [
    {
     "data": {
      "text/plain": [
       "'I like Python programing number one'"
      ]
     },
     "execution_count": 66,
     "metadata": {},
     "output_type": "execute_result"
    }
   ],
   "source": [
    "str3 = str1+str2\n",
    "str3"
   ]
  },
  {
   "cell_type": "code",
   "execution_count": 67,
   "id": "733916f2",
   "metadata": {},
   "outputs": [
    {
     "name": "stdout",
     "output_type": "stream",
     "text": [
      "university\n",
      "10\n"
     ]
    }
   ],
   "source": [
    "#string indexing and slicing\n",
    "name = \"university\"\n",
    "print(name)\n",
    "print(len(name))"
   ]
  },
  {
   "cell_type": "code",
   "execution_count": 72,
   "id": "317d53c9",
   "metadata": {},
   "outputs": [
    {
     "data": {
      "text/plain": [
       "'u'"
      ]
     },
     "execution_count": 72,
     "metadata": {},
     "output_type": "execute_result"
    }
   ],
   "source": [
    "name[-10]\n"
   ]
  },
  {
   "cell_type": "code",
   "execution_count": 76,
   "id": "6aa36bd8",
   "metadata": {},
   "outputs": [
    {
     "name": "stdout",
     "output_type": "stream",
     "text": [
      "Hello i am HARDIK TAILOR My hobby is Painting\n",
      "45\n"
     ]
    }
   ],
   "source": [
    "name = \"Hello i am HARDIK TAILOR My hobby is Painting\"\n",
    "print(name)\n",
    "print(len(name))"
   ]
  },
  {
   "cell_type": "code",
   "execution_count": 77,
   "id": "ca44eeed",
   "metadata": {},
   "outputs": [
    {
     "name": "stdout",
     "output_type": "stream",
     "text": [
      "Hello i am HARDIK TAILOR My hobby is Painting\n",
      "45\n"
     ]
    }
   ],
   "source": [
    "name = \"Hello i am HARDIK TAILOR My hobby is Painting\"\n",
    "print(name)\n",
    "print(len(name))"
   ]
  },
  {
   "cell_type": "code",
   "execution_count": 80,
   "id": "257a805e",
   "metadata": {},
   "outputs": [
    {
     "data": {
      "text/plain": [
       "'H'"
      ]
     },
     "execution_count": 80,
     "metadata": {},
     "output_type": "execute_result"
    }
   ],
   "source": [
    "name[11]"
   ]
  },
  {
   "cell_type": "code",
   "execution_count": 82,
   "id": "198b4af9",
   "metadata": {},
   "outputs": [
    {
     "data": {
      "text/plain": [
       "'A'"
      ]
     },
     "execution_count": 82,
     "metadata": {},
     "output_type": "execute_result"
    }
   ],
   "source": [
    "name[12]"
   ]
  },
  {
   "cell_type": "code",
   "execution_count": 84,
   "id": "146a1dbe",
   "metadata": {},
   "outputs": [
    {
     "data": {
      "text/plain": [
       "'R'"
      ]
     },
     "execution_count": 84,
     "metadata": {},
     "output_type": "execute_result"
    }
   ],
   "source": [
    "name[13]"
   ]
  },
  {
   "cell_type": "code",
   "execution_count": 85,
   "id": "a0cdaa0a",
   "metadata": {},
   "outputs": [
    {
     "data": {
      "text/plain": [
       "'D'"
      ]
     },
     "execution_count": 85,
     "metadata": {},
     "output_type": "execute_result"
    }
   ],
   "source": [
    "name[14]"
   ]
  },
  {
   "cell_type": "code",
   "execution_count": 86,
   "id": "ae82f4db",
   "metadata": {},
   "outputs": [
    {
     "data": {
      "text/plain": [
       "'I'"
      ]
     },
     "execution_count": 86,
     "metadata": {},
     "output_type": "execute_result"
    }
   ],
   "source": [
    "name[15]"
   ]
  },
  {
   "cell_type": "code",
   "execution_count": 87,
   "id": "8110d08b",
   "metadata": {},
   "outputs": [
    {
     "data": {
      "text/plain": [
       "'K'"
      ]
     },
     "execution_count": 87,
     "metadata": {},
     "output_type": "execute_result"
    }
   ],
   "source": [
    "name[16]"
   ]
  },
  {
   "cell_type": "code",
   "execution_count": 89,
   "id": "c33a290c",
   "metadata": {},
   "outputs": [
    {
     "data": {
      "text/plain": [
       "'R'"
      ]
     },
     "execution_count": 89,
     "metadata": {},
     "output_type": "execute_result"
    }
   ],
   "source": [
    "name[-22]"
   ]
  },
  {
   "cell_type": "code",
   "execution_count": 90,
   "id": "5ed8ee5f",
   "metadata": {},
   "outputs": [
    {
     "data": {
      "text/plain": [
       "'O'"
      ]
     },
     "execution_count": 90,
     "metadata": {},
     "output_type": "execute_result"
    }
   ],
   "source": [
    "name[-23]"
   ]
  },
  {
   "cell_type": "code",
   "execution_count": 91,
   "id": "fe416f8a",
   "metadata": {},
   "outputs": [
    {
     "data": {
      "text/plain": [
       "'L'"
      ]
     },
     "execution_count": 91,
     "metadata": {},
     "output_type": "execute_result"
    }
   ],
   "source": [
    "name[-24]"
   ]
  },
  {
   "cell_type": "code",
   "execution_count": 94,
   "id": "ee90c2be",
   "metadata": {
    "scrolled": true
   },
   "outputs": [
    {
     "ename": "NameError",
     "evalue": "name 'name' is not defined",
     "output_type": "error",
     "traceback": [
      "\u001b[1;31m---------------------------------------------------------------------------\u001b[0m",
      "\u001b[1;31mNameError\u001b[0m                                 Traceback (most recent call last)",
      "Input \u001b[1;32mIn [94]\u001b[0m, in \u001b[0;36m<cell line: 1>\u001b[1;34m()\u001b[0m\n\u001b[1;32m----> 1\u001b[0m \u001b[43mname\u001b[49m[\u001b[38;5;241m-\u001b[39m\u001b[38;5;241m25\u001b[39m]\n",
      "\u001b[1;31mNameError\u001b[0m: name 'name' is not defined"
     ]
    }
   ],
   "source": [
    "name[-25]"
   ]
  },
  {
   "cell_type": "code",
   "execution_count": 24,
   "id": "7b562160",
   "metadata": {},
   "outputs": [
    {
     "name": "stdout",
     "output_type": "stream",
     "text": [
      "Enter the first value8\n",
      "Enter the second value10\n"
     ]
    }
   ],
   "source": [
    "x=input(\"Enter the first value\")\n",
    "y=input(\"Enter the second value\")"
   ]
  },
  {
   "cell_type": "code",
   "execution_count": 2,
   "id": "d8b77840",
   "metadata": {},
   "outputs": [
    {
     "data": {
      "text/plain": [
       "'810'"
      ]
     },
     "execution_count": 2,
     "metadata": {},
     "output_type": "execute_result"
    }
   ],
   "source": [
    "x+y"
   ]
  },
  {
   "cell_type": "code",
   "execution_count": 3,
   "id": "1c3ee467",
   "metadata": {},
   "outputs": [
    {
     "data": {
      "text/plain": [
       "str"
      ]
     },
     "execution_count": 3,
     "metadata": {},
     "output_type": "execute_result"
    }
   ],
   "source": [
    "type(x)"
   ]
  },
  {
   "cell_type": "markdown",
   "id": "27273ce7",
   "metadata": {},
   "source": [
    "# Tupels"
   ]
  },
  {
   "cell_type": "code",
   "execution_count": 4,
   "id": "34e6603d",
   "metadata": {},
   "outputs": [
    {
     "data": {
      "text/plain": [
       "tuple"
      ]
     },
     "execution_count": 4,
     "metadata": {},
     "output_type": "execute_result"
    }
   ],
   "source": [
    "a=(1,2,3,4,5)\n",
    "b=(6,7,8,9,10)\n",
    "type(a)"
   ]
  },
  {
   "cell_type": "code",
   "execution_count": 5,
   "id": "875ee748",
   "metadata": {},
   "outputs": [
    {
     "data": {
      "text/plain": [
       "(1, 2, 3, 4, 5, 6, 7, 8, 9, 10)"
      ]
     },
     "execution_count": 5,
     "metadata": {},
     "output_type": "execute_result"
    }
   ],
   "source": [
    "a+b"
   ]
  },
  {
   "cell_type": "code",
   "execution_count": 6,
   "id": "6454c9eb",
   "metadata": {},
   "outputs": [
    {
     "data": {
      "text/plain": [
       "(1, 2, 3, 4, 5, 1, 2, 3, 4, 5)"
      ]
     },
     "execution_count": 6,
     "metadata": {},
     "output_type": "execute_result"
    }
   ],
   "source": [
    "a*2"
   ]
  },
  {
   "cell_type": "code",
   "execution_count": 7,
   "id": "6c34cbe3",
   "metadata": {},
   "outputs": [
    {
     "data": {
      "text/plain": [
       "1"
      ]
     },
     "execution_count": 7,
     "metadata": {},
     "output_type": "execute_result"
    }
   ],
   "source": [
    "a[0]"
   ]
  },
  {
   "cell_type": "code",
   "execution_count": 8,
   "id": "037f4632",
   "metadata": {},
   "outputs": [
    {
     "ename": "TypeError",
     "evalue": "'tuple' object does not support item assignment",
     "output_type": "error",
     "traceback": [
      "\u001b[1;31m---------------------------------------------------------------------------\u001b[0m",
      "\u001b[1;31mTypeError\u001b[0m                                 Traceback (most recent call last)",
      "Input \u001b[1;32mIn [8]\u001b[0m, in \u001b[0;36m<cell line: 1>\u001b[1;34m()\u001b[0m\n\u001b[1;32m----> 1\u001b[0m a[\u001b[38;5;241m0\u001b[39m]\u001b[38;5;241m=\u001b[39m\u001b[38;5;241m19\u001b[39m\n",
      "\u001b[1;31mTypeError\u001b[0m: 'tuple' object does not support item assignment"
     ]
    }
   ],
   "source": [
    "a[0]=19"
   ]
  },
  {
   "cell_type": "markdown",
   "id": "f74ca8c5",
   "metadata": {},
   "source": [
    "# Dictionary"
   ]
  },
  {
   "cell_type": "code",
   "execution_count": 19,
   "id": "9519fafe",
   "metadata": {},
   "outputs": [],
   "source": [
    "empl={}"
   ]
  },
  {
   "cell_type": "code",
   "execution_count": 20,
   "id": "52818c02",
   "metadata": {},
   "outputs": [
    {
     "data": {
      "text/plain": [
       "dict"
      ]
     },
     "execution_count": 20,
     "metadata": {},
     "output_type": "execute_result"
    }
   ],
   "source": [
    "type(empl)"
   ]
  },
  {
   "cell_type": "code",
   "execution_count": 21,
   "id": "43d95520",
   "metadata": {},
   "outputs": [
    {
     "data": {
      "text/plain": [
       "{'name': 'HARDIK', 'age': '24', 'Gender': 'M'}"
      ]
     },
     "execution_count": 21,
     "metadata": {},
     "output_type": "execute_result"
    }
   ],
   "source": [
    "empl[\"name\"]=\"HARDIK\"\n",
    "empl[\"age\"]=\"24\"\n",
    "empl[\"Gender\"]=\"M\"\n",
    "empl"
   ]
  },
  {
   "cell_type": "code",
   "execution_count": 22,
   "id": "c2f30c04",
   "metadata": {},
   "outputs": [
    {
     "ename": "KeyError",
     "evalue": "0",
     "output_type": "error",
     "traceback": [
      "\u001b[1;31m---------------------------------------------------------------------------\u001b[0m",
      "\u001b[1;31mKeyError\u001b[0m                                  Traceback (most recent call last)",
      "Input \u001b[1;32mIn [22]\u001b[0m, in \u001b[0;36m<cell line: 1>\u001b[1;34m()\u001b[0m\n\u001b[1;32m----> 1\u001b[0m \u001b[43mempl\u001b[49m\u001b[43m[\u001b[49m\u001b[38;5;241;43m0\u001b[39;49m\u001b[43m]\u001b[49m\n",
      "\u001b[1;31mKeyError\u001b[0m: 0"
     ]
    }
   ],
   "source": [
    "empl[0]"
   ]
  },
  {
   "cell_type": "code",
   "execution_count": 23,
   "id": "3060a469",
   "metadata": {},
   "outputs": [
    {
     "data": {
      "text/plain": [
       "'HARDIK'"
      ]
     },
     "execution_count": 23,
     "metadata": {},
     "output_type": "execute_result"
    }
   ],
   "source": [
    "empl[\"name\"]"
   ]
  },
  {
   "cell_type": "code",
   "execution_count": 24,
   "id": "90b62441",
   "metadata": {},
   "outputs": [
    {
     "data": {
      "text/plain": [
       "dict_keys(['name', 'age', 'Gender'])"
      ]
     },
     "execution_count": 24,
     "metadata": {},
     "output_type": "execute_result"
    }
   ],
   "source": [
    "empl.keys()"
   ]
  },
  {
   "cell_type": "code",
   "execution_count": 25,
   "id": "f9bed419",
   "metadata": {},
   "outputs": [
    {
     "data": {
      "text/plain": [
       "dict_values(['HARDIK', '24', 'M'])"
      ]
     },
     "execution_count": 25,
     "metadata": {},
     "output_type": "execute_result"
    }
   ],
   "source": [
    "empl.values()"
   ]
  },
  {
   "cell_type": "markdown",
   "id": "7c81f16c",
   "metadata": {},
   "source": [
    "# Loops\n"
   ]
  },
  {
   "cell_type": "markdown",
   "id": "3e2299af",
   "metadata": {},
   "source": [
    "### 1) While loop"
   ]
  },
  {
   "cell_type": "code",
   "execution_count": 26,
   "id": "916bb2ee",
   "metadata": {},
   "outputs": [
    {
     "name": "stdout",
     "output_type": "stream",
     "text": [
      "The count is: 0\n",
      "The count is: 1\n",
      "The count is: 2\n",
      "The count is: 3\n",
      "The count is: 4\n",
      "The count is: 5\n",
      "The count is: 6\n",
      "The count is: 7\n",
      "The count is: 8\n",
      "SEE YOU AGAIN\n"
     ]
    }
   ],
   "source": [
    "count = 0\n",
    "while(count < 9):\n",
    "    print (\"The count is:\", count)\n",
    "    count = count + 1\n",
    "print(\"SEE YOU AGAIN\")\n"
   ]
  },
  {
   "cell_type": "code",
   "execution_count": 28,
   "id": "f48534e0",
   "metadata": {},
   "outputs": [
    {
     "name": "stdout",
     "output_type": "stream",
     "text": [
      "HARDIK\n",
      "HARDIK\n",
      "HARDIK\n",
      "HARDIK\n",
      "HARDIK\n",
      "HARDIK\n",
      "HARDIK\n",
      "HARDIK\n",
      "HARDIK\n"
     ]
    }
   ],
   "source": [
    "count = 0\n",
    "while(count < 9):\n",
    "    count = count + 1\n",
    "    print(\"HARDIK\")\n"
   ]
  },
  {
   "cell_type": "markdown",
   "id": "eafa3dc5",
   "metadata": {},
   "source": [
    "### 2) While loop with else"
   ]
  },
  {
   "cell_type": "code",
   "execution_count": 29,
   "id": "f10a1e07",
   "metadata": {},
   "outputs": [
    {
     "name": "stdout",
     "output_type": "stream",
     "text": [
      "0 is less than 5\n",
      "1 is less than 5\n",
      "2 is less than 5\n",
      "3 is less than 5\n",
      "4 is less than 5\n",
      "5 is not less than 5\n"
     ]
    }
   ],
   "source": [
    "count = 0\n",
    "while count <5:\n",
    "    print(count, \"is less than 5\")\n",
    "    count = count + 1\n",
    "else:\n",
    "    print(count, \"is not less than 5\")"
   ]
  },
  {
   "cell_type": "markdown",
   "id": "1dc4cb85",
   "metadata": {},
   "source": [
    "### 3) For Loop"
   ]
  },
  {
   "cell_type": "code",
   "execution_count": 30,
   "id": "c8959a4a",
   "metadata": {},
   "outputs": [
    {
     "name": "stdout",
     "output_type": "stream",
     "text": [
      "Current Latter : P\n",
      "Current Latter : y\n",
      "Current Latter : t\n",
      "Current Latter : h\n",
      "Current Latter : o\n",
      "Current Latter : n\n"
     ]
    }
   ],
   "source": [
    "for letter in 'Python':\n",
    "    print('Current Latter :', letter)\n",
    "    "
   ]
  },
  {
   "cell_type": "code",
   "execution_count": 32,
   "id": "a724865f",
   "metadata": {},
   "outputs": [
    {
     "name": "stdout",
     "output_type": "stream",
     "text": [
      "current fruit : Mango\n",
      "current fruit : Pinaple\n",
      "current fruit : Banana\n",
      "Good bye!\n"
     ]
    }
   ],
   "source": [
    "fruits = ['Mango', 'Pinaple', 'Banana']\n",
    "for fruit in fruits:\n",
    "    print('current fruit :', fruit)\n",
    "    \n",
    "print(\"Good bye!\")"
   ]
  },
  {
   "cell_type": "code",
   "execution_count": 33,
   "id": "8d73b5f3",
   "metadata": {},
   "outputs": [
    {
     "name": "stdout",
     "output_type": "stream",
     "text": [
      "0\n",
      "1\n",
      "2\n",
      "3\n",
      "4\n",
      "5\n",
      "6\n",
      "7\n",
      "8\n",
      "9\n"
     ]
    }
   ],
   "source": [
    "for i in range(10):\n",
    "    print(i)"
   ]
  },
  {
   "cell_type": "markdown",
   "id": "cec7def6",
   "metadata": {},
   "source": [
    "### 4) For loop with esle"
   ]
  },
  {
   "cell_type": "code",
   "execution_count": 41,
   "id": "245c45e2",
   "metadata": {},
   "outputs": [
    {
     "name": "stdout",
     "output_type": "stream",
     "text": [
      "10 equals 2 * 5\n",
      "11 is a prime number\n",
      "12 equals 2 * 6\n",
      "13 is a prime number\n",
      "14 equals 2 * 7\n",
      "15 is a prime number\n",
      "16 equals 2 * 8\n",
      "17 is a prime number\n",
      "18 equals 2 * 9\n",
      "19 is a prime number\n"
     ]
    }
   ],
   "source": [
    "for num in range(10,20):\n",
    "    for i in range(2,num):\n",
    "        if num%i == 0:\n",
    "            j=num/i\n",
    "            print('%d equals %d * %d' % (num,i,j))\n",
    "            break\n",
    "        else:\n",
    "            print(num, \"is a prime number\")\n",
    "            break\n",
    "    "
   ]
  },
  {
   "cell_type": "code",
   "execution_count": 44,
   "id": "d4415215",
   "metadata": {},
   "outputs": [
    {
     "data": {
      "text/plain": [
       "3.141592653589793"
      ]
     },
     "execution_count": 44,
     "metadata": {},
     "output_type": "execute_result"
    }
   ],
   "source": [
    "from math import pi\n",
    "pi"
   ]
  },
  {
   "cell_type": "code",
   "execution_count": 45,
   "id": "ddfe45e4",
   "metadata": {},
   "outputs": [
    {
     "data": {
      "text/plain": [
       "3.141592653589793"
      ]
     },
     "execution_count": 45,
     "metadata": {},
     "output_type": "execute_result"
    }
   ],
   "source": [
    "pi"
   ]
  },
  {
   "cell_type": "code",
   "execution_count": 52,
   "id": "cd9be148",
   "metadata": {},
   "outputs": [
    {
     "name": "stdout",
     "output_type": "stream",
     "text": [
      "Area of circle is: 314.1592653589793\n"
     ]
    }
   ],
   "source": [
    "r = 10\n",
    "area = pi*r*r\n",
    "print(\"Area of circle is:\", area)\n"
   ]
  },
  {
   "cell_type": "markdown",
   "id": "f55919b8",
   "metadata": {},
   "source": [
    "### Conditional Statement"
   ]
  },
  {
   "cell_type": "code",
   "execution_count": 53,
   "id": "ca19c6a2",
   "metadata": {},
   "outputs": [
    {
     "name": "stdout",
     "output_type": "stream",
     "text": [
      "5 is possition number\n",
      "statement is true\n"
     ]
    }
   ],
   "source": [
    "#if statement\n",
    "\n",
    "num = 5\n",
    "if num>0:\n",
    "    print(num, 'is possition number')\n",
    "print('statement is true')"
   ]
  },
  {
   "cell_type": "code",
   "execution_count": 57,
   "id": "22bc0549",
   "metadata": {},
   "outputs": [
    {
     "name": "stdout",
     "output_type": "stream",
     "text": [
      "1 is possition number\n"
     ]
    }
   ],
   "source": [
    "#if statement\n",
    "\n",
    "num = 1\n",
    "if num>0:\n",
    "    print(num, 'is possition number')\n",
    "else:\n",
    "    print('statement is true')"
   ]
  },
  {
   "cell_type": "code",
   "execution_count": 68,
   "id": "4c5daf00",
   "metadata": {},
   "outputs": [
    {
     "name": "stdout",
     "output_type": "stream",
     "text": [
      "statement is true\n"
     ]
    }
   ],
   "source": [
    "#if statement\n",
    "\n",
    "num = -8\n",
    "if num>0:\n",
    "    print(num, 'is possition number')\n",
    "else:\n",
    "    print('statement is true')"
   ]
  },
  {
   "cell_type": "code",
   "execution_count": 66,
   "id": "87731706",
   "metadata": {},
   "outputs": [
    {
     "name": "stdout",
     "output_type": "stream",
     "text": [
      "0 is Zero\n"
     ]
    }
   ],
   "source": [
    "#if statement\n",
    "\n",
    "num = 0\n",
    "if num>=0:\n",
    "    if num == 0:\n",
    "        print(num, 'is Zero')\n",
    "    else:\n",
    "        print(num, 'is possition number')\n",
    "else:\n",
    "    print('statement is true')"
   ]
  },
  {
   "cell_type": "code",
   "execution_count": 69,
   "id": "5c76b4c2",
   "metadata": {},
   "outputs": [
    {
     "name": "stdout",
     "output_type": "stream",
     "text": [
      "9 is possition number\n"
     ]
    }
   ],
   "source": [
    "#if statement\n",
    "\n",
    "num = 9\n",
    "if num>=0:\n",
    "    if num == 0:\n",
    "        print(num, 'is Zero')\n",
    "    else:\n",
    "        print(num, 'is possition number')\n",
    "else:\n",
    "    print('statement is true')"
   ]
  },
  {
   "cell_type": "markdown",
   "id": "59fe6cf6",
   "metadata": {},
   "source": [
    "# calculator"
   ]
  },
  {
   "cell_type": "code",
   "execution_count": 86,
   "id": "fae07913",
   "metadata": {},
   "outputs": [
    {
     "name": "stdout",
     "output_type": "stream",
     "text": [
      "Select operation\n",
      "1. Addition\n",
      "2. Subtraction\n",
      "3. Multiply\n",
      "4. Divide\n",
      "Enter choice (1/2/3/4): 1\n",
      "Enter the first number: 2\n",
      "Enter the second number: 3\n",
      "2 + 3 5\n"
     ]
    }
   ],
   "source": [
    "#create function for each operation\n",
    "#this function add two number\n",
    "\n",
    "def add(x,y):\n",
    "    return x+y\n",
    "\n",
    "#this function subtraction two number\n",
    "\n",
    "def subtract(x,y):\n",
    "    return x-y\n",
    "\n",
    "#this function multiply two number\n",
    "\n",
    "def multiply(x,y):\n",
    "    return x*y\n",
    "\n",
    "#this function divide two number\n",
    "\n",
    "def divide(x,y):\n",
    "    return x/y\n",
    "\n",
    "print(\"Select operation\")\n",
    "print(\"1. Addition\")\n",
    "print(\"2. Subtraction\")\n",
    "print(\"3. Multiply\")\n",
    "print(\"4. Divide\")\n",
    "\n",
    "choice = input(\"Enter choice (1/2/3/4): \")\n",
    "\n",
    "num1 = int (input(\"Enter the first number: \"))\n",
    "num2 = int (input(\"Enter the second number: \"))\n",
    "\n",
    "if choice == '1':\n",
    "    print(num1, '+', num2, add(num1,num2))\n",
    "elif choice == '2':\n",
    "    print(num1, '-', num2, subtraction(num1,num2))\n",
    "elif choice == '3':\n",
    "    print(num1, '*', num2, multiply(num1,num2))\n",
    "elif choice == '4':\n",
    "    print(num1, '/', num2, divide(num1,num2))\n",
    "else:\n",
    "    print(\"Invalide Input\")\n"
   ]
  },
  {
   "cell_type": "code",
   "execution_count": null,
   "id": "774491f6",
   "metadata": {},
   "outputs": [],
   "source": []
  }
 ],
 "metadata": {
  "kernelspec": {
   "display_name": "Python 3 (ipykernel)",
   "language": "python",
   "name": "python3"
  },
  "language_info": {
   "codemirror_mode": {
    "name": "ipython",
    "version": 3
   },
   "file_extension": ".py",
   "mimetype": "text/x-python",
   "name": "python",
   "nbconvert_exporter": "python",
   "pygments_lexer": "ipython3",
   "version": "3.9.12"
  }
 },
 "nbformat": 4,
 "nbformat_minor": 5
}
